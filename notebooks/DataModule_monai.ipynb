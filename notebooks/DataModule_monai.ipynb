{
 "cells": [
  {
   "cell_type": "markdown",
   "metadata": {},
   "source": [
    "## Create a Torch Dataset for MedNISt"
   ]
  },
  {
   "cell_type": "code",
   "execution_count": 2,
   "metadata": {},
   "outputs": [],
   "source": [
    "import torch\n",
    "from torch.utils.data import Dataset\n",
    "from torchvision import datasets\n",
    "from torchvision import transforms as tt\n",
    "import matplotlib.pyplot as plt\n",
    "from monai import transforms as mT ## Breaks with numpy > 2.0\n",
    "from monai.utils import set_determinism"
   ]
  },
  {
   "cell_type": "code",
   "execution_count": 3,
   "metadata": {},
   "outputs": [],
   "source": [
    "import os\n",
    "from dotenv import load_dotenv\n",
    "from pathlib import PosixPath, Path\n",
    "import json\n",
    "import numpy as np\n",
    "import yaml\n",
    "from typing import List, Dict, Tuple, Optional, Union, Any\n",
    "from tqdm.notebook import tqdm"
   ]
  },
  {
   "cell_type": "code",
   "execution_count": 4,
   "metadata": {},
   "outputs": [],
   "source": [
    "load_dotenv(\"../envs/mednist.env\")\n",
    "root_dir = Path(os.environ.get(\"DATASET_DIR\"))\n",
    "data_dir = Path(os.environ.get(\"DATA_DIR\"))\n",
    "set_determinism(seed=42)"
   ]
  },
  {
   "cell_type": "code",
   "execution_count": 5,
   "metadata": {},
   "outputs": [],
   "source": [
    "with open(data_dir / 'hyperparam.yml', 'r') as outfile:\n",
    "    hparams_dict = yaml.safe_load(outfile)"
   ]
  },
  {
   "cell_type": "code",
   "execution_count": 6,
   "metadata": {},
   "outputs": [
    {
     "data": {
      "text/plain": [
       "{'device': 'cpu',\n",
       " 'epochs': 4,\n",
       " 'finetune_frac': 0.1,\n",
       " 'ftune_batchsize': 64,\n",
       " 'in_channels': 1,\n",
       " 'loss': 'CrossEntropyLoss',\n",
       " 'lr': 1e-05,\n",
       " 'num_workers': 2,\n",
       " 'optimizer': 'AdamW',\n",
       " 'out_channels': 5,\n",
       " 'spatial_dims': 2,\n",
       " 'test_frac': 0.1,\n",
       " 'train_batchsize': 64,\n",
       " 'val_interval': 1}"
      ]
     },
     "execution_count": 6,
     "metadata": {},
     "output_type": "execute_result"
    }
   ],
   "source": [
    "hparams_dict"
   ]
  },
  {
   "cell_type": "code",
   "execution_count": 7,
   "metadata": {},
   "outputs": [],
   "source": [
    "with open(str(data_dir / \"random_split.json\"), \"r\") as fp:\n",
    "    data_split = json.load(fp)"
   ]
  },
  {
   "cell_type": "code",
   "execution_count": 8,
   "metadata": {},
   "outputs": [],
   "source": [
    "def replace_header(path: str, pattern: str, replace_str: str) -> str:\n",
    "    return path.replace(pattern, replace_str,)\n",
    "\n",
    "## Preprocessing\n",
    "for split_type in [\"train\", \"ftune\", \"test\"]:\n",
    "    data_split[split_type]['image'] = [\n",
    "        replace_header(\n",
    "            path=img_path,\n",
    "            pattern=\"<DATASET_DIR>\",\n",
    "            replace_str=str(root_dir)\n",
    "            ) for img_path in data_split[split_type]['image']]"
   ]
  },
  {
   "cell_type": "code",
   "execution_count": 9,
   "metadata": {},
   "outputs": [],
   "source": [
    "## Define all relevant transforms!\n",
    "train_transforms = mT.Compose([\n",
    "    mT.LoadImage(image_only=True),\n",
    "    mT.EnsureChannelFirst(), ## Add a channel to the batch dimension\n",
    "    mT.ScaleIntensity(),\n",
    "    mT.RandRotate(range_x=np.pi / 12, prob=0.5, keep_size=True),\n",
    "    mT.RandFlip(spatial_axis=0, prob=0.5),\n",
    "    mT.RandZoom(min_zoom=0.9, max_zoom=1.1, prob=0.5),\n",
    "    mT.ToTensor(),\n",
    "    ])\n",
    "\n",
    "ftune_transforms = mT.Compose([\n",
    "    mT.LoadImage(image_only=True),\n",
    "    mT.EnsureChannelFirst(), ## Add a channel to the batch dimension\n",
    "    mT.ScaleIntensity(),\n",
    "])\n",
    "\n",
    "pred_transform = mT.Compose([\n",
    "    mT.Activations(softmax=True)])\n",
    "\n",
    "label_transform = mT.Compose(mT.AsDiscrete(to_onehot=hparams_dict['out_channels']))"
   ]
  },
  {
   "cell_type": "code",
   "execution_count": 10,
   "metadata": {},
   "outputs": [
    {
     "data": {
      "text/plain": [
       "monai.transforms.compose.Compose"
      ]
     },
     "execution_count": 10,
     "metadata": {},
     "output_type": "execute_result"
    }
   ],
   "source": [
    "type(train_transforms)"
   ]
  },
  {
   "cell_type": "code",
   "execution_count": 18,
   "metadata": {},
   "outputs": [
    {
     "data": {
      "text/plain": [
       "{'device': 'cpu',\n",
       " 'epochs': 4,\n",
       " 'finetune_frac': 0.1,\n",
       " 'ftune_batchsize': 64,\n",
       " 'in_channels': 1,\n",
       " 'loss': 'CrossEntropyLoss',\n",
       " 'lr': 1e-05,\n",
       " 'num_workers': 2,\n",
       " 'optimizer': 'AdamW',\n",
       " 'out_channels': 5,\n",
       " 'spatial_dims': 2,\n",
       " 'test_frac': 0.1,\n",
       " 'train_batchsize': 64,\n",
       " 'val_interval': 1}"
      ]
     },
     "execution_count": 18,
     "metadata": {},
     "output_type": "execute_result"
    }
   ],
   "source": [
    "hparams_dict"
   ]
  },
  {
   "cell_type": "code",
   "execution_count": 11,
   "metadata": {},
   "outputs": [
    {
     "data": {
      "text/plain": [
       "dict_keys(['image', 'label'])"
      ]
     },
     "execution_count": 11,
     "metadata": {},
     "output_type": "execute_result"
    }
   ],
   "source": [
    "data_split['train'].keys()"
   ]
  },
  {
   "cell_type": "code",
   "execution_count": 12,
   "metadata": {},
   "outputs": [],
   "source": [
    "## Dataset!\n",
    "class MedNIST_Dataset(torch.utils.data.Dataset):\n",
    "    def __init__(\n",
    "            self, \n",
    "            data_dict: Dict, \n",
    "            transforms: mT.Compose, \n",
    "            image_key: str = \"image\",\n",
    "            label_key: str = \"label\",\n",
    "            ) -> None:\n",
    "        self.data = data_dict\n",
    "        self.transform = transforms\n",
    "        self.image_key = image_key\n",
    "        self.label_key = label_key\n",
    "\n",
    "    def __len__(self):\n",
    "        return len(self.data[self.image_key])\n",
    "    \n",
    "    def __getitem__(self, index):\n",
    "        return {\n",
    "            \"x\": self.transform(self.data[self.image_key][index]),\n",
    "            \"y\": int(self.data[self.label_key][index]),}"
   ]
  },
  {
   "cell_type": "code",
   "execution_count": 13,
   "metadata": {},
   "outputs": [],
   "source": [
    "train_ds = MedNIST_Dataset(\n",
    "    data_dict = data_split['train'],\n",
    "    transforms=train_transforms,)\n",
    "\n",
    "ftune_ds = MedNIST_Dataset(\n",
    "    data_dict = data_split['ftune'],\n",
    "    transforms=ftune_transforms,)\n",
    "\n",
    "## Dataloaders!\n",
    "train_dl = torch.utils.data.DataLoader(\n",
    "    train_ds, \n",
    "    batch_size=hparams_dict['train_batchsize'],\n",
    "    num_workers=0)\n",
    "\n",
    "ftune_dl = torch.utils.data.DataLoader(\n",
    "    ftune_ds, \n",
    "    batch_size=hparams_dict['ftune_batchsize'],\n",
    "    num_workers=0)"
   ]
  },
  {
   "cell_type": "code",
   "execution_count": 14,
   "metadata": {},
   "outputs": [
    {
     "data": {
      "text/plain": [
       "47163"
      ]
     },
     "execution_count": 14,
     "metadata": {},
     "output_type": "execute_result"
    }
   ],
   "source": [
    "len(train_ds)"
   ]
  },
  {
   "cell_type": "code",
   "execution_count": 15,
   "metadata": {},
   "outputs": [
    {
     "data": {
      "application/vnd.jupyter.widget-view+json": {
       "model_id": "f9606a7b67f4458388d97744da099677",
       "version_major": 2,
       "version_minor": 0
      },
      "text/plain": [
       "  0%|          | 0/737 [00:00<?, ?it/s]"
      ]
     },
     "metadata": {},
     "output_type": "display_data"
    }
   ],
   "source": [
    "for idx, batch in enumerate(tqdm(train_dl)):\n",
    "    continue"
   ]
  },
  {
   "cell_type": "code",
   "execution_count": 16,
   "metadata": {},
   "outputs": [
    {
     "data": {
      "application/vnd.jupyter.widget-view+json": {
       "model_id": "fc308155e8724a20af90d9ee51d8e9f7",
       "version_major": 2,
       "version_minor": 0
      },
      "text/plain": [
       "  0%|          | 0/93 [00:00<?, ?it/s]"
      ]
     },
     "metadata": {},
     "output_type": "display_data"
    }
   ],
   "source": [
    "for idx, batch in enumerate(tqdm(ftune_dl)):\n",
    "    continue"
   ]
  },
  {
   "cell_type": "code",
   "execution_count": 17,
   "metadata": {},
   "outputs": [
    {
     "data": {
      "text/plain": [
       "torch.Size([7, 1, 64, 64])"
      ]
     },
     "execution_count": 17,
     "metadata": {},
     "output_type": "execute_result"
    }
   ],
   "source": [
    "batch['x'].shape"
   ]
  },
  {
   "cell_type": "code",
   "execution_count": null,
   "metadata": {},
   "outputs": [],
   "source": []
  }
 ],
 "metadata": {
  "kernelspec": {
   "display_name": ".venv",
   "language": "python",
   "name": "python3"
  },
  "language_info": {
   "codemirror_mode": {
    "name": "ipython",
    "version": 3
   },
   "file_extension": ".py",
   "mimetype": "text/x-python",
   "name": "python",
   "nbconvert_exporter": "python",
   "pygments_lexer": "ipython3",
   "version": "3.12.6"
  }
 },
 "nbformat": 4,
 "nbformat_minor": 2
}
