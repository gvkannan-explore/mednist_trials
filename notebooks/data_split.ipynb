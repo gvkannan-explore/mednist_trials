{
 "cells": [
  {
   "cell_type": "code",
   "execution_count": 1,
   "metadata": {},
   "outputs": [],
   "source": [
    "import os\n",
    "from pathlib import Path, PosixPath"
   ]
  },
  {
   "cell_type": "code",
   "execution_count": 18,
   "metadata": {},
   "outputs": [],
   "source": [
    "from dotenv import load_dotenv\n",
    "import json\n",
    "import numpy as np\n",
    "from datetime import datetime"
   ]
  },
  {
   "cell_type": "code",
   "execution_count": 16,
   "metadata": {},
   "outputs": [],
   "source": [
    "from PIL import Image"
   ]
  },
  {
   "cell_type": "code",
   "execution_count": null,
   "metadata": {},
   "outputs": [],
   "source": []
  },
  {
   "cell_type": "code",
   "execution_count": 14,
   "metadata": {},
   "outputs": [],
   "source": [
    "load_dotenv(\"../envs/mednist.env\")\n",
    "root_dir = Path(os.environ.get(\"DATASET_DIR\"))\n",
    "data_dir = Path(os.environ.get(\"DATA_DIR\"))"
   ]
  },
  {
   "cell_type": "code",
   "execution_count": null,
   "metadata": {},
   "outputs": [],
   "source": [
    "def strip_root(id_path: PosixPath, root_dir: PosixPath = root_dir) -> str:\n",
    "    \"\"\"\n",
    "    Strip local directory related information.\n",
    "    \"\"\"\n",
    "    return str(id_path).replace(str(root_dir), \"<DATASET_DIR>\")"
   ]
  },
  {
   "cell_type": "code",
   "execution_count": 12,
   "metadata": {},
   "outputs": [],
   "source": [
    "import yaml\n",
    "\n",
    "hparams_dict = {\n",
    "    \"finetune_frac\": 0.1,\n",
    "    \"test_frac\": 0.1,\n",
    "    \"train_batchsize\": 1024,\n",
    "    \"ftune_batchsize\": 1024,\n",
    "    \"num_workers\": 2,\n",
    "    \"device\": \"cpu\",\n",
    "    \"spatial_dims\": 2,\n",
    "    \"in_channels\": 1,\n",
    "    \"out_channels\": 5,\n",
    "    \"loss\": \"CrossEntropyLoss\",\n",
    "    \"optimizer\": \"AdamW\",\n",
    "    \"epochs\": 4,\n",
    "    \"val_interval\": 1,\n",
    "    \"lr\": 1e-5,\n",
    "}\n",
    "\n",
    "with open(data_dir / 'hyperparam.yml', 'w') as outfile:\n",
    "    yaml.dump(hparams_dict, outfile, default_flow_style=False)"
   ]
  },
  {
   "cell_type": "code",
   "execution_count": 17,
   "metadata": {},
   "outputs": [],
   "source": [
    "class_names = [fname for fname in os.listdir(root_dir) if (root_dir / fname).is_dir()]\n",
    "num_classes = len(class_names)\n",
    "image_dict = {\n",
    "    class_name: [\n",
    "        root_dir / class_name / x for x in os.listdir(root_dir / class_name)]\n",
    "    for class_name in class_names\n",
    "\n",
    "}\n",
    "\n",
    "image_fdirs, image_labels = [],[]\n",
    "for idx, class_name in enumerate(class_names):\n",
    "  image_fdirs.extend(image_dict[class_name])\n",
    "  image_labels.extend([idx] * len(image_dict[class_name]))\n",
    "\n",
    "num_total = len(image_labels)\n",
    "image_width, image_height = Image.open(image_fdirs[0]).size"
   ]
  },
  {
   "cell_type": "code",
   "execution_count": 19,
   "metadata": {},
   "outputs": [
    {
     "name": "stdout",
     "output_type": "stream",
     "text": [
      "Training count = 47163 Validation count = 5895 Test count = 5896\n"
     ]
    }
   ],
   "source": [
    "## Generate Split and save for future use!\n",
    "finetune_frac, test_frac = hparams_dict['finetune_frac'], hparams_dict['test_frac']\n",
    "ixs = [idx for idx in range(num_total)]\n",
    "np.random.shuffle(ixs)\n",
    "train_ixs = ixs[:int(num_total*(1-(finetune_frac+test_frac)))]\n",
    "ftune_ixs = ixs[int(num_total*(1-(finetune_frac+test_frac))):int(num_total*(1-(test_frac)))]\n",
    "test_ixs = ixs[int(num_total*(1-(test_frac))):]\n",
    "\n",
    "trainX = [image_fdirs[idx] for idx in train_ixs]\n",
    "trainY = [image_labels[idx] for idx in train_ixs]\n",
    "\n",
    "ftuneX = [image_fdirs[idx] for idx in ftune_ixs]\n",
    "ftuneY = [image_labels[idx] for idx in ftune_ixs]\n",
    "\n",
    "testX = [image_fdirs[idx] for idx in test_ixs]\n",
    "testY = [image_labels[idx] for idx in test_ixs]\n",
    "\n",
    "print(\n",
    "    \"Training count =\",len(trainX),\"Validation count =\", len(ftuneX), \"Test count =\",len(testX))"
   ]
  },
  {
   "cell_type": "code",
   "execution_count": 25,
   "metadata": {},
   "outputs": [
    {
     "data": {
      "text/plain": [
       "'Oct01,2024'"
      ]
     },
     "execution_count": 25,
     "metadata": {},
     "output_type": "execute_result"
    }
   ],
   "source": [
    "datetime.now().strftime(\"%b%d,%Y\")"
   ]
  },
  {
   "cell_type": "code",
   "execution_count": 52,
   "metadata": {},
   "outputs": [],
   "source": [
    "trainX = [strip_root(id_path=x) for x in trainX]\n",
    "trainY = [strip_root(id_path=x) for x in trainY]\n",
    "ftuneX = [strip_root(id_path=x) for x in ftuneX]\n",
    "ftuneY = [strip_root(id_path=x) for x in ftuneY]\n",
    "testX = [strip_root(id_path=x) for x in testX]\n",
    "testY = [strip_root(id_path=x) for x in testY]"
   ]
  },
  {
   "cell_type": "code",
   "execution_count": 54,
   "metadata": {},
   "outputs": [],
   "source": [
    "data_split = {}\n",
    "now = datetime.now().strftime(\"%b%d,%Y\")\n",
    "data_split['info'] = f\"Date: {now}. MedNIST Dataset. Training: {len(trainX)} - Finetune: {len(ftuneX)} - Test: {len(testX)}\"\n",
    "data_split['train'] = {\"image\": trainX, \"label\": trainY}\n",
    "data_split['ftune'] = {\"image\": ftuneX, \"label\": ftuneY}\n",
    "data_split['test'] = {\"image\": testX, \"label\": testY}\n",
    "with open(str(data_dir / \"random_split.json\"), \"w\") as fp:\n",
    "    json.dump(data_split, fp)"
   ]
  },
  {
   "cell_type": "code",
   "execution_count": null,
   "metadata": {},
   "outputs": [],
   "source": []
  }
 ],
 "metadata": {
  "kernelspec": {
   "display_name": ".venv",
   "language": "python",
   "name": "python3"
  },
  "language_info": {
   "codemirror_mode": {
    "name": "ipython",
    "version": 3
   },
   "file_extension": ".py",
   "mimetype": "text/x-python",
   "name": "python",
   "nbconvert_exporter": "python",
   "pygments_lexer": "ipython3",
   "version": "3.12.6"
  }
 },
 "nbformat": 4,
 "nbformat_minor": 2
}
